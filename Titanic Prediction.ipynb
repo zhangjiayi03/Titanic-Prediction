{
 "cells": [
  {
   "cell_type": "code",
   "execution_count": 1,
   "metadata": {},
   "outputs": [],
   "source": [
    "import numpy as np \n",
    "import pandas as pd\n",
    "import matplotlib.pyplot as plt\n",
    "import seaborn as sns\n",
    "import warnings\n",
    "warnings.filterwarnings('ignore')"
   ]
  },
  {
   "cell_type": "code",
   "execution_count": 2,
   "metadata": {},
   "outputs": [],
   "source": [
    "data=pd.read_csv('C:/Users/Administrator/Desktop/train.csv')\n",
    "test=pd.read_csv('C:/Users/Administrator/Desktop/test.csv')"
   ]
  },
  {
   "cell_type": "markdown",
   "metadata": {},
   "source": [
    "## Name Analyse"
   ]
  },
  {
   "cell_type": "code",
   "execution_count": 3,
   "metadata": {},
   "outputs": [],
   "source": [
    "data['Initial']=0\n",
    "for i in data:\n",
    "    data['Initial']=data.Name.str.extract('([A-Za-z]+)\\.') #lets extract the Salutations"
   ]
  },
  {
   "cell_type": "code",
   "execution_count": 5,
   "metadata": {},
   "outputs": [
    {
     "data": {
      "text/html": [
       "<style  type=\"text/css\" >\n",
       "    #T_6f879a4c_dda7_11e7_a908_f44d309bd0e3row0_col0 {\n",
       "            background-color:  #ffff66;\n",
       "        }    #T_6f879a4c_dda7_11e7_a908_f44d309bd0e3row0_col1 {\n",
       "            background-color:  #ffff66;\n",
       "        }    #T_6f879a4c_dda7_11e7_a908_f44d309bd0e3row0_col2 {\n",
       "            background-color:  #008066;\n",
       "        }    #T_6f879a4c_dda7_11e7_a908_f44d309bd0e3row0_col3 {\n",
       "            background-color:  #ffff66;\n",
       "        }    #T_6f879a4c_dda7_11e7_a908_f44d309bd0e3row0_col4 {\n",
       "            background-color:  #ffff66;\n",
       "        }    #T_6f879a4c_dda7_11e7_a908_f44d309bd0e3row0_col5 {\n",
       "            background-color:  #ffff66;\n",
       "        }    #T_6f879a4c_dda7_11e7_a908_f44d309bd0e3row0_col6 {\n",
       "            background-color:  #008066;\n",
       "        }    #T_6f879a4c_dda7_11e7_a908_f44d309bd0e3row0_col7 {\n",
       "            background-color:  #ffff66;\n",
       "        }    #T_6f879a4c_dda7_11e7_a908_f44d309bd0e3row0_col8 {\n",
       "            background-color:  #ffff66;\n",
       "        }    #T_6f879a4c_dda7_11e7_a908_f44d309bd0e3row0_col9 {\n",
       "            background-color:  #008066;\n",
       "        }    #T_6f879a4c_dda7_11e7_a908_f44d309bd0e3row0_col10 {\n",
       "            background-color:  #008066;\n",
       "        }    #T_6f879a4c_dda7_11e7_a908_f44d309bd0e3row0_col11 {\n",
       "            background-color:  #008066;\n",
       "        }    #T_6f879a4c_dda7_11e7_a908_f44d309bd0e3row0_col12 {\n",
       "            background-color:  #ffff66;\n",
       "        }    #T_6f879a4c_dda7_11e7_a908_f44d309bd0e3row0_col13 {\n",
       "            background-color:  #008066;\n",
       "        }    #T_6f879a4c_dda7_11e7_a908_f44d309bd0e3row0_col14 {\n",
       "            background-color:  #008066;\n",
       "        }    #T_6f879a4c_dda7_11e7_a908_f44d309bd0e3row0_col15 {\n",
       "            background-color:  #ffff66;\n",
       "        }    #T_6f879a4c_dda7_11e7_a908_f44d309bd0e3row0_col16 {\n",
       "            background-color:  #ffff66;\n",
       "        }    #T_6f879a4c_dda7_11e7_a908_f44d309bd0e3row1_col0 {\n",
       "            background-color:  #008066;\n",
       "        }    #T_6f879a4c_dda7_11e7_a908_f44d309bd0e3row1_col1 {\n",
       "            background-color:  #008066;\n",
       "        }    #T_6f879a4c_dda7_11e7_a908_f44d309bd0e3row1_col2 {\n",
       "            background-color:  #ffff66;\n",
       "        }    #T_6f879a4c_dda7_11e7_a908_f44d309bd0e3row1_col3 {\n",
       "            background-color:  #008066;\n",
       "        }    #T_6f879a4c_dda7_11e7_a908_f44d309bd0e3row1_col4 {\n",
       "            background-color:  #008066;\n",
       "        }    #T_6f879a4c_dda7_11e7_a908_f44d309bd0e3row1_col5 {\n",
       "            background-color:  #008066;\n",
       "        }    #T_6f879a4c_dda7_11e7_a908_f44d309bd0e3row1_col6 {\n",
       "            background-color:  #ffff66;\n",
       "        }    #T_6f879a4c_dda7_11e7_a908_f44d309bd0e3row1_col7 {\n",
       "            background-color:  #008066;\n",
       "        }    #T_6f879a4c_dda7_11e7_a908_f44d309bd0e3row1_col8 {\n",
       "            background-color:  #008066;\n",
       "        }    #T_6f879a4c_dda7_11e7_a908_f44d309bd0e3row1_col9 {\n",
       "            background-color:  #ffff66;\n",
       "        }    #T_6f879a4c_dda7_11e7_a908_f44d309bd0e3row1_col10 {\n",
       "            background-color:  #ffff66;\n",
       "        }    #T_6f879a4c_dda7_11e7_a908_f44d309bd0e3row1_col11 {\n",
       "            background-color:  #ffff66;\n",
       "        }    #T_6f879a4c_dda7_11e7_a908_f44d309bd0e3row1_col12 {\n",
       "            background-color:  #008066;\n",
       "        }    #T_6f879a4c_dda7_11e7_a908_f44d309bd0e3row1_col13 {\n",
       "            background-color:  #ffff66;\n",
       "        }    #T_6f879a4c_dda7_11e7_a908_f44d309bd0e3row1_col14 {\n",
       "            background-color:  #ffff66;\n",
       "        }    #T_6f879a4c_dda7_11e7_a908_f44d309bd0e3row1_col15 {\n",
       "            background-color:  #008066;\n",
       "        }    #T_6f879a4c_dda7_11e7_a908_f44d309bd0e3row1_col16 {\n",
       "            background-color:  #008066;\n",
       "        }</style>  \n",
       "<table id=\"T_6f879a4c_dda7_11e7_a908_f44d309bd0e3\" > \n",
       "<thead>    <tr> \n",
       "        <th class=\"index_name level0\" >Initial</th> \n",
       "        <th class=\"col_heading level0 col0\" >Capt</th> \n",
       "        <th class=\"col_heading level0 col1\" >Col</th> \n",
       "        <th class=\"col_heading level0 col2\" >Countess</th> \n",
       "        <th class=\"col_heading level0 col3\" >Don</th> \n",
       "        <th class=\"col_heading level0 col4\" >Dr</th> \n",
       "        <th class=\"col_heading level0 col5\" >Jonkheer</th> \n",
       "        <th class=\"col_heading level0 col6\" >Lady</th> \n",
       "        <th class=\"col_heading level0 col7\" >Major</th> \n",
       "        <th class=\"col_heading level0 col8\" >Master</th> \n",
       "        <th class=\"col_heading level0 col9\" >Miss</th> \n",
       "        <th class=\"col_heading level0 col10\" >Mlle</th> \n",
       "        <th class=\"col_heading level0 col11\" >Mme</th> \n",
       "        <th class=\"col_heading level0 col12\" >Mr</th> \n",
       "        <th class=\"col_heading level0 col13\" >Mrs</th> \n",
       "        <th class=\"col_heading level0 col14\" >Ms</th> \n",
       "        <th class=\"col_heading level0 col15\" >Rev</th> \n",
       "        <th class=\"col_heading level0 col16\" >Sir</th> \n",
       "    </tr>    <tr> \n",
       "        <th class=\"index_name level0\" >Sex</th> \n",
       "        <th class=\"blank\" ></th> \n",
       "        <th class=\"blank\" ></th> \n",
       "        <th class=\"blank\" ></th> \n",
       "        <th class=\"blank\" ></th> \n",
       "        <th class=\"blank\" ></th> \n",
       "        <th class=\"blank\" ></th> \n",
       "        <th class=\"blank\" ></th> \n",
       "        <th class=\"blank\" ></th> \n",
       "        <th class=\"blank\" ></th> \n",
       "        <th class=\"blank\" ></th> \n",
       "        <th class=\"blank\" ></th> \n",
       "        <th class=\"blank\" ></th> \n",
       "        <th class=\"blank\" ></th> \n",
       "        <th class=\"blank\" ></th> \n",
       "        <th class=\"blank\" ></th> \n",
       "        <th class=\"blank\" ></th> \n",
       "        <th class=\"blank\" ></th> \n",
       "    </tr></thead> \n",
       "<tbody>    <tr> \n",
       "        <th id=\"T_6f879a4c_dda7_11e7_a908_f44d309bd0e3level0_row0\" class=\"row_heading level0 row0\" >female</th> \n",
       "        <td id=\"T_6f879a4c_dda7_11e7_a908_f44d309bd0e3row0_col0\" class=\"data row0 col0\" >0</td> \n",
       "        <td id=\"T_6f879a4c_dda7_11e7_a908_f44d309bd0e3row0_col1\" class=\"data row0 col1\" >0</td> \n",
       "        <td id=\"T_6f879a4c_dda7_11e7_a908_f44d309bd0e3row0_col2\" class=\"data row0 col2\" >1</td> \n",
       "        <td id=\"T_6f879a4c_dda7_11e7_a908_f44d309bd0e3row0_col3\" class=\"data row0 col3\" >0</td> \n",
       "        <td id=\"T_6f879a4c_dda7_11e7_a908_f44d309bd0e3row0_col4\" class=\"data row0 col4\" >1</td> \n",
       "        <td id=\"T_6f879a4c_dda7_11e7_a908_f44d309bd0e3row0_col5\" class=\"data row0 col5\" >0</td> \n",
       "        <td id=\"T_6f879a4c_dda7_11e7_a908_f44d309bd0e3row0_col6\" class=\"data row0 col6\" >1</td> \n",
       "        <td id=\"T_6f879a4c_dda7_11e7_a908_f44d309bd0e3row0_col7\" class=\"data row0 col7\" >0</td> \n",
       "        <td id=\"T_6f879a4c_dda7_11e7_a908_f44d309bd0e3row0_col8\" class=\"data row0 col8\" >0</td> \n",
       "        <td id=\"T_6f879a4c_dda7_11e7_a908_f44d309bd0e3row0_col9\" class=\"data row0 col9\" >182</td> \n",
       "        <td id=\"T_6f879a4c_dda7_11e7_a908_f44d309bd0e3row0_col10\" class=\"data row0 col10\" >2</td> \n",
       "        <td id=\"T_6f879a4c_dda7_11e7_a908_f44d309bd0e3row0_col11\" class=\"data row0 col11\" >1</td> \n",
       "        <td id=\"T_6f879a4c_dda7_11e7_a908_f44d309bd0e3row0_col12\" class=\"data row0 col12\" >0</td> \n",
       "        <td id=\"T_6f879a4c_dda7_11e7_a908_f44d309bd0e3row0_col13\" class=\"data row0 col13\" >125</td> \n",
       "        <td id=\"T_6f879a4c_dda7_11e7_a908_f44d309bd0e3row0_col14\" class=\"data row0 col14\" >1</td> \n",
       "        <td id=\"T_6f879a4c_dda7_11e7_a908_f44d309bd0e3row0_col15\" class=\"data row0 col15\" >0</td> \n",
       "        <td id=\"T_6f879a4c_dda7_11e7_a908_f44d309bd0e3row0_col16\" class=\"data row0 col16\" >0</td> \n",
       "    </tr>    <tr> \n",
       "        <th id=\"T_6f879a4c_dda7_11e7_a908_f44d309bd0e3level0_row1\" class=\"row_heading level0 row1\" >male</th> \n",
       "        <td id=\"T_6f879a4c_dda7_11e7_a908_f44d309bd0e3row1_col0\" class=\"data row1 col0\" >1</td> \n",
       "        <td id=\"T_6f879a4c_dda7_11e7_a908_f44d309bd0e3row1_col1\" class=\"data row1 col1\" >2</td> \n",
       "        <td id=\"T_6f879a4c_dda7_11e7_a908_f44d309bd0e3row1_col2\" class=\"data row1 col2\" >0</td> \n",
       "        <td id=\"T_6f879a4c_dda7_11e7_a908_f44d309bd0e3row1_col3\" class=\"data row1 col3\" >1</td> \n",
       "        <td id=\"T_6f879a4c_dda7_11e7_a908_f44d309bd0e3row1_col4\" class=\"data row1 col4\" >6</td> \n",
       "        <td id=\"T_6f879a4c_dda7_11e7_a908_f44d309bd0e3row1_col5\" class=\"data row1 col5\" >1</td> \n",
       "        <td id=\"T_6f879a4c_dda7_11e7_a908_f44d309bd0e3row1_col6\" class=\"data row1 col6\" >0</td> \n",
       "        <td id=\"T_6f879a4c_dda7_11e7_a908_f44d309bd0e3row1_col7\" class=\"data row1 col7\" >2</td> \n",
       "        <td id=\"T_6f879a4c_dda7_11e7_a908_f44d309bd0e3row1_col8\" class=\"data row1 col8\" >40</td> \n",
       "        <td id=\"T_6f879a4c_dda7_11e7_a908_f44d309bd0e3row1_col9\" class=\"data row1 col9\" >0</td> \n",
       "        <td id=\"T_6f879a4c_dda7_11e7_a908_f44d309bd0e3row1_col10\" class=\"data row1 col10\" >0</td> \n",
       "        <td id=\"T_6f879a4c_dda7_11e7_a908_f44d309bd0e3row1_col11\" class=\"data row1 col11\" >0</td> \n",
       "        <td id=\"T_6f879a4c_dda7_11e7_a908_f44d309bd0e3row1_col12\" class=\"data row1 col12\" >517</td> \n",
       "        <td id=\"T_6f879a4c_dda7_11e7_a908_f44d309bd0e3row1_col13\" class=\"data row1 col13\" >0</td> \n",
       "        <td id=\"T_6f879a4c_dda7_11e7_a908_f44d309bd0e3row1_col14\" class=\"data row1 col14\" >0</td> \n",
       "        <td id=\"T_6f879a4c_dda7_11e7_a908_f44d309bd0e3row1_col15\" class=\"data row1 col15\" >6</td> \n",
       "        <td id=\"T_6f879a4c_dda7_11e7_a908_f44d309bd0e3row1_col16\" class=\"data row1 col16\" >1</td> \n",
       "    </tr></tbody> \n",
       "</table> "
      ],
      "text/plain": [
       "<pandas.io.formats.style.Styler at 0x6ba2cd0>"
      ]
     },
     "execution_count": 5,
     "metadata": {},
     "output_type": "execute_result"
    }
   ],
   "source": [
    "pd.crosstab(data.Initial,data.Sex).T.style.background_gradient(cmap='summer_r')"
   ]
  },
  {
   "cell_type": "code",
   "execution_count": 6,
   "metadata": {},
   "outputs": [],
   "source": [
    "test['Initial']=0\n",
    "for i in test:\n",
    "    test['Initial']=test.Name.str.extract('([A-Za-z]+)\\.') #lets extract the Salutations"
   ]
  },
  {
   "cell_type": "code",
   "execution_count": 8,
   "metadata": {},
   "outputs": [
    {
     "data": {
      "text/html": [
       "<style  type=\"text/css\" >\n",
       "    #T_6280aa98_dda8_11e7_8aa4_f44d309bd0e3row0_col0 {\n",
       "            background-color:  #ffff66;\n",
       "        }    #T_6280aa98_dda8_11e7_8aa4_f44d309bd0e3row0_col1 {\n",
       "            background-color:  #008066;\n",
       "        }    #T_6280aa98_dda8_11e7_8aa4_f44d309bd0e3row0_col2 {\n",
       "            background-color:  #ffff66;\n",
       "        }    #T_6280aa98_dda8_11e7_8aa4_f44d309bd0e3row0_col3 {\n",
       "            background-color:  #ffff66;\n",
       "        }    #T_6280aa98_dda8_11e7_8aa4_f44d309bd0e3row0_col4 {\n",
       "            background-color:  #008066;\n",
       "        }    #T_6280aa98_dda8_11e7_8aa4_f44d309bd0e3row0_col5 {\n",
       "            background-color:  #ffff66;\n",
       "        }    #T_6280aa98_dda8_11e7_8aa4_f44d309bd0e3row0_col6 {\n",
       "            background-color:  #008066;\n",
       "        }    #T_6280aa98_dda8_11e7_8aa4_f44d309bd0e3row0_col7 {\n",
       "            background-color:  #008066;\n",
       "        }    #T_6280aa98_dda8_11e7_8aa4_f44d309bd0e3row0_col8 {\n",
       "            background-color:  #ffff66;\n",
       "        }    #T_6280aa98_dda8_11e7_8aa4_f44d309bd0e3row1_col0 {\n",
       "            background-color:  #008066;\n",
       "        }    #T_6280aa98_dda8_11e7_8aa4_f44d309bd0e3row1_col1 {\n",
       "            background-color:  #ffff66;\n",
       "        }    #T_6280aa98_dda8_11e7_8aa4_f44d309bd0e3row1_col2 {\n",
       "            background-color:  #008066;\n",
       "        }    #T_6280aa98_dda8_11e7_8aa4_f44d309bd0e3row1_col3 {\n",
       "            background-color:  #008066;\n",
       "        }    #T_6280aa98_dda8_11e7_8aa4_f44d309bd0e3row1_col4 {\n",
       "            background-color:  #ffff66;\n",
       "        }    #T_6280aa98_dda8_11e7_8aa4_f44d309bd0e3row1_col5 {\n",
       "            background-color:  #008066;\n",
       "        }    #T_6280aa98_dda8_11e7_8aa4_f44d309bd0e3row1_col6 {\n",
       "            background-color:  #ffff66;\n",
       "        }    #T_6280aa98_dda8_11e7_8aa4_f44d309bd0e3row1_col7 {\n",
       "            background-color:  #ffff66;\n",
       "        }    #T_6280aa98_dda8_11e7_8aa4_f44d309bd0e3row1_col8 {\n",
       "            background-color:  #008066;\n",
       "        }</style>  \n",
       "<table id=\"T_6280aa98_dda8_11e7_8aa4_f44d309bd0e3\" > \n",
       "<thead>    <tr> \n",
       "        <th class=\"index_name level0\" >Initial</th> \n",
       "        <th class=\"col_heading level0 col0\" >Col</th> \n",
       "        <th class=\"col_heading level0 col1\" >Dona</th> \n",
       "        <th class=\"col_heading level0 col2\" >Dr</th> \n",
       "        <th class=\"col_heading level0 col3\" >Master</th> \n",
       "        <th class=\"col_heading level0 col4\" >Miss</th> \n",
       "        <th class=\"col_heading level0 col5\" >Mr</th> \n",
       "        <th class=\"col_heading level0 col6\" >Mrs</th> \n",
       "        <th class=\"col_heading level0 col7\" >Ms</th> \n",
       "        <th class=\"col_heading level0 col8\" >Rev</th> \n",
       "    </tr>    <tr> \n",
       "        <th class=\"index_name level0\" >Sex</th> \n",
       "        <th class=\"blank\" ></th> \n",
       "        <th class=\"blank\" ></th> \n",
       "        <th class=\"blank\" ></th> \n",
       "        <th class=\"blank\" ></th> \n",
       "        <th class=\"blank\" ></th> \n",
       "        <th class=\"blank\" ></th> \n",
       "        <th class=\"blank\" ></th> \n",
       "        <th class=\"blank\" ></th> \n",
       "        <th class=\"blank\" ></th> \n",
       "    </tr></thead> \n",
       "<tbody>    <tr> \n",
       "        <th id=\"T_6280aa98_dda8_11e7_8aa4_f44d309bd0e3level0_row0\" class=\"row_heading level0 row0\" >female</th> \n",
       "        <td id=\"T_6280aa98_dda8_11e7_8aa4_f44d309bd0e3row0_col0\" class=\"data row0 col0\" >0</td> \n",
       "        <td id=\"T_6280aa98_dda8_11e7_8aa4_f44d309bd0e3row0_col1\" class=\"data row0 col1\" >1</td> \n",
       "        <td id=\"T_6280aa98_dda8_11e7_8aa4_f44d309bd0e3row0_col2\" class=\"data row0 col2\" >0</td> \n",
       "        <td id=\"T_6280aa98_dda8_11e7_8aa4_f44d309bd0e3row0_col3\" class=\"data row0 col3\" >0</td> \n",
       "        <td id=\"T_6280aa98_dda8_11e7_8aa4_f44d309bd0e3row0_col4\" class=\"data row0 col4\" >78</td> \n",
       "        <td id=\"T_6280aa98_dda8_11e7_8aa4_f44d309bd0e3row0_col5\" class=\"data row0 col5\" >0</td> \n",
       "        <td id=\"T_6280aa98_dda8_11e7_8aa4_f44d309bd0e3row0_col6\" class=\"data row0 col6\" >72</td> \n",
       "        <td id=\"T_6280aa98_dda8_11e7_8aa4_f44d309bd0e3row0_col7\" class=\"data row0 col7\" >1</td> \n",
       "        <td id=\"T_6280aa98_dda8_11e7_8aa4_f44d309bd0e3row0_col8\" class=\"data row0 col8\" >0</td> \n",
       "    </tr>    <tr> \n",
       "        <th id=\"T_6280aa98_dda8_11e7_8aa4_f44d309bd0e3level0_row1\" class=\"row_heading level0 row1\" >male</th> \n",
       "        <td id=\"T_6280aa98_dda8_11e7_8aa4_f44d309bd0e3row1_col0\" class=\"data row1 col0\" >2</td> \n",
       "        <td id=\"T_6280aa98_dda8_11e7_8aa4_f44d309bd0e3row1_col1\" class=\"data row1 col1\" >0</td> \n",
       "        <td id=\"T_6280aa98_dda8_11e7_8aa4_f44d309bd0e3row1_col2\" class=\"data row1 col2\" >1</td> \n",
       "        <td id=\"T_6280aa98_dda8_11e7_8aa4_f44d309bd0e3row1_col3\" class=\"data row1 col3\" >21</td> \n",
       "        <td id=\"T_6280aa98_dda8_11e7_8aa4_f44d309bd0e3row1_col4\" class=\"data row1 col4\" >0</td> \n",
       "        <td id=\"T_6280aa98_dda8_11e7_8aa4_f44d309bd0e3row1_col5\" class=\"data row1 col5\" >240</td> \n",
       "        <td id=\"T_6280aa98_dda8_11e7_8aa4_f44d309bd0e3row1_col6\" class=\"data row1 col6\" >0</td> \n",
       "        <td id=\"T_6280aa98_dda8_11e7_8aa4_f44d309bd0e3row1_col7\" class=\"data row1 col7\" >0</td> \n",
       "        <td id=\"T_6280aa98_dda8_11e7_8aa4_f44d309bd0e3row1_col8\" class=\"data row1 col8\" >2</td> \n",
       "    </tr></tbody> \n",
       "</table> "
      ],
      "text/plain": [
       "<pandas.io.formats.style.Styler at 0x92a28b0>"
      ]
     },
     "execution_count": 8,
     "metadata": {},
     "output_type": "execute_result"
    }
   ],
   "source": [
    "pd.crosstab(test.Initial,test.Sex).T.style.background_gradient(cmap='summer_r')"
   ]
  },
  {
   "cell_type": "code",
   "execution_count": 9,
   "metadata": {},
   "outputs": [],
   "source": [
    "data['Initial'].replace(['Mlle','Mme','Ms','Dr','Major','Lady','Countess','Jonkheer','Col','Rev','Capt','Sir','Don'],['Miss','Miss','Miss','Mr','Mr','Mrs','Mrs','Other','Other','Other','Mr','Mr','Mr'],inplace=True)"
   ]
  },
  {
   "cell_type": "code",
   "execution_count": 10,
   "metadata": {},
   "outputs": [],
   "source": [
    "test['Initial'].replace(['Mlle','Mme','Ms','Dr','Major','Lady','Countess','Jonkheer','Col','Rev','Capt','Sir','Don','Dona'],['Miss','Miss','Miss','Mr','Mr','Mrs','Mrs','Other','Other','Other','Mr','Mr','Mr','Mrs'],inplace=True)"
   ]
  },
  {
   "cell_type": "markdown",
   "metadata": {},
   "source": [
    "## Filling Nan Age (mean age of the same inital in data)"
   ]
  },
  {
   "cell_type": "code",
   "execution_count": 11,
   "metadata": {},
   "outputs": [],
   "source": [
    "data.loc[(data.Age.isnull())&(data.Initial=='Mr'),'Age']=33\n",
    "data.loc[(data.Age.isnull())&(data.Initial=='Mrs'),'Age']=36\n",
    "data.loc[(data.Age.isnull())&(data.Initial=='Master'),'Age']=5\n",
    "data.loc[(data.Age.isnull())&(data.Initial=='Miss'),'Age']=22\n",
    "data.loc[(data.Age.isnull())&(data.Initial=='Other'),'Age']=46"
   ]
  },
  {
   "cell_type": "code",
   "execution_count": 12,
   "metadata": {},
   "outputs": [],
   "source": [
    "test.loc[(test.Age.isnull())&(test.Initial=='Mr'),'Age']=33\n",
    "test.loc[(test.Age.isnull())&(test.Initial=='Mrs'),'Age']=36\n",
    "test.loc[(test.Age.isnull())&(test.Initial=='Master'),'Age']=5\n",
    "test.loc[(test.Age.isnull())&(test.Initial=='Miss'),'Age']=22\n",
    "test.loc[(test.Age.isnull())&(test.Initial=='Other'),'Age']=46"
   ]
  },
  {
   "cell_type": "code",
   "execution_count": 13,
   "metadata": {},
   "outputs": [
    {
     "data": {
      "text/plain": [
       "False"
      ]
     },
     "execution_count": 13,
     "metadata": {},
     "output_type": "execute_result"
    }
   ],
   "source": [
    "data.Age.isnull().any()"
   ]
  },
  {
   "cell_type": "code",
   "execution_count": 14,
   "metadata": {},
   "outputs": [
    {
     "data": {
      "text/plain": [
       "False"
      ]
     },
     "execution_count": 14,
     "metadata": {},
     "output_type": "execute_result"
    }
   ],
   "source": [
    "test.Age.isnull().any()"
   ]
  },
  {
   "cell_type": "markdown",
   "metadata": {},
   "source": [
    "## Filling Embarked NaN"
   ]
  },
  {
   "cell_type": "code",
   "execution_count": 15,
   "metadata": {},
   "outputs": [],
   "source": [
    "data['Embarked'].fillna('S',inplace=True)"
   ]
  },
  {
   "cell_type": "code",
   "execution_count": 16,
   "metadata": {},
   "outputs": [],
   "source": [
    "test['Embarked'].fillna('S',inplace=True)"
   ]
  },
  {
   "cell_type": "code",
   "execution_count": 17,
   "metadata": {},
   "outputs": [
    {
     "data": {
      "text/plain": [
       "False"
      ]
     },
     "execution_count": 17,
     "metadata": {},
     "output_type": "execute_result"
    }
   ],
   "source": [
    "data.Embarked.isnull().any()"
   ]
  },
  {
   "cell_type": "code",
   "execution_count": 18,
   "metadata": {},
   "outputs": [
    {
     "data": {
      "text/plain": [
       "False"
      ]
     },
     "execution_count": 18,
     "metadata": {},
     "output_type": "execute_result"
    }
   ],
   "source": [
    "test.Embarked.isnull().any()"
   ]
  },
  {
   "cell_type": "markdown",
   "metadata": {},
   "source": [
    "## Correlation Between The Features"
   ]
  },
  {
   "cell_type": "code",
   "execution_count": 19,
   "metadata": {},
   "outputs": [
    {
     "data": {
      "image/png": "[encoded data removed]",
      "text/plain": [
       "<matplotlib.figure.Figure at 0x92a27d0>"
      ]
     },
     "metadata": {},
     "output_type": "display_data"
    }
   ],
   "source": [
    "sns.heatmap(data.corr(),annot=True,cmap='RdYlGn',linewidths=0.2) #data.corr()-->correlation matrix\n",
    "fig=plt.gcf()\n",
    "fig.set_size_inches(10,8)\n",
    "plt.show()"
   ]
  },
  {
   "cell_type": "markdown",
   "metadata": {},
   "source": [
    "## Age band"
   ]
  },
  {
   "cell_type": "code",
   "execution_count": 20,
   "metadata": {},
   "outputs": [
    {
     "data": {
      "text/html": [
       "<div>\n",
       "<style>\n",
       "    .dataframe thead tr:only-child th {\n",
       "        text-align: right;\n",
       "    }\n",
       "\n",
       "    .dataframe thead th {\n",
       "        text-align: left;\n",
       "    }\n",
       "\n",
       "    .dataframe tbody tr th {\n",
       "        vertical-align: top;\n",
       "    }\n",
       "</style>\n",
       "<table border=\"1\" class=\"dataframe\">\n",
       "  <thead>\n",
       "    <tr style=\"text-align: right;\">\n",
       "      <th></th>\n",
       "      <th>PassengerId</th>\n",
       "      <th>Survived</th>\n",
       "      <th>Pclass</th>\n",
       "      <th>Name</th>\n",
       "      <th>Sex</th>\n",
       "      <th>Age</th>\n",
       "      <th>SibSp</th>\n",
       "      <th>Parch</th>\n",
       "      <th>Ticket</th>\n",
       "      <th>Fare</th>\n",
       "      <th>Cabin</th>\n",
       "      <th>Embarked</th>\n",
       "      <th>Initial</th>\n",
       "      <th>Age_band</th>\n",
       "    </tr>\n",
       "  </thead>\n",
       "  <tbody>\n",
       "    <tr>\n",
       "      <th>0</th>\n",
       "      <td>1</td>\n",
       "      <td>0</td>\n",
       "      <td>3</td>\n",
       "      <td>Braund, Mr. Owen Harris</td>\n",
       "      <td>male</td>\n",
       "      <td>22.0</td>\n",
       "      <td>1</td>\n",
       "      <td>0</td>\n",
       "      <td>A/5 21171</td>\n",
       "      <td>7.2500</td>\n",
       "      <td>NaN</td>\n",
       "      <td>S</td>\n",
       "      <td>Mr</td>\n",
       "      <td>1</td>\n",
       "    </tr>\n",
       "    <tr>\n",
       "      <th>1</th>\n",
       "      <td>2</td>\n",
       "      <td>1</td>\n",
       "      <td>1</td>\n",
       "      <td>Cumings, Mrs. John Bradley (Florence Briggs Th...</td>\n",
       "      <td>female</td>\n",
       "      <td>38.0</td>\n",
       "      <td>1</td>\n",
       "      <td>0</td>\n",
       "      <td>PC 17599</td>\n",
       "      <td>71.2833</td>\n",
       "      <td>C85</td>\n",
       "      <td>C</td>\n",
       "      <td>Mrs</td>\n",
       "      <td>2</td>\n",
       "    </tr>\n",
       "  </tbody>\n",
       "</table>\n",
       "</div>"
      ],
      "text/plain": [
       "   PassengerId  Survived  Pclass  \\\n",
       "0            1         0       3   \n",
       "1            2         1       1   \n",
       "\n",
       "                                                Name     Sex   Age  SibSp  \\\n",
       "0                            Braund, Mr. Owen Harris    male  22.0      1   \n",
       "1  Cumings, Mrs. John Bradley (Florence Briggs Th...  female  38.0      1   \n",
       "\n",
       "   Parch     Ticket     Fare Cabin Embarked Initial  Age_band  \n",
       "0      0  A/5 21171   7.2500   NaN        S      Mr         1  \n",
       "1      0   PC 17599  71.2833   C85        C     Mrs         2  "
      ]
     },
     "execution_count": 20,
     "metadata": {},
     "output_type": "execute_result"
    }
   ],
   "source": [
    "data['Age_band']=0\n",
    "data.loc[data['Age']<=16,'Age_band']=0\n",
    "data.loc[(data['Age']>16)&(data['Age']<=32),'Age_band']=1\n",
    "data.loc[(data['Age']>32)&(data['Age']<=48),'Age_band']=2\n",
    "data.loc[(data['Age']>48)&(data['Age']<=64),'Age_band']=3\n",
    "data.loc[data['Age']>64,'Age_band']=4\n",
    "data.head(2)"
   ]
  },
  {
   "cell_type": "code",
   "execution_count": 21,
   "metadata": {},
   "outputs": [
    {
     "data": {
      "text/html": [
       "<div>\n",
       "<style>\n",
       "    .dataframe thead tr:only-child th {\n",
       "        text-align: right;\n",
       "    }\n",
       "\n",
       "    .dataframe thead th {\n",
       "        text-align: left;\n",
       "    }\n",
       "\n",
       "    .dataframe tbody tr th {\n",
       "        vertical-align: top;\n",
       "    }\n",
       "</style>\n",
       "<table border=\"1\" class=\"dataframe\">\n",
       "  <thead>\n",
       "    <tr style=\"text-align: right;\">\n",
       "      <th></th>\n",
       "      <th>PassengerId</th>\n",
       "      <th>Pclass</th>\n",
       "      <th>Name</th>\n",
       "      <th>Sex</th>\n",
       "      <th>Age</th>\n",
       "      <th>SibSp</th>\n",
       "      <th>Parch</th>\n",
       "      <th>Ticket</th>\n",
       "      <th>Fare</th>\n",
       "      <th>Cabin</th>\n",
       "      <th>Embarked</th>\n",
       "      <th>Initial</th>\n",
       "      <th>Age_band</th>\n",
       "    </tr>\n",
       "  </thead>\n",
       "  <tbody>\n",
       "    <tr>\n",
       "      <th>0</th>\n",
       "      <td>892</td>\n",
       "      <td>3</td>\n",
       "      <td>Kelly, Mr. James</td>\n",
       "      <td>male</td>\n",
       "      <td>34.5</td>\n",
       "      <td>0</td>\n",
       "      <td>0</td>\n",
       "      <td>330911</td>\n",
       "      <td>7.8292</td>\n",
       "      <td>NaN</td>\n",
       "      <td>Q</td>\n",
       "      <td>Mr</td>\n",
       "      <td>2</td>\n",
       "    </tr>\n",
       "    <tr>\n",
       "      <th>1</th>\n",
       "      <td>893</td>\n",
       "      <td>3</td>\n",
       "      <td>Wilkes, Mrs. James (Ellen Needs)</td>\n",
       "      <td>female</td>\n",
       "      <td>47.0</td>\n",
       "      <td>1</td>\n",
       "      <td>0</td>\n",
       "      <td>363272</td>\n",
       "      <td>7.0000</td>\n",
       "      <td>NaN</td>\n",
       "      <td>S</td>\n",
       "      <td>Mrs</td>\n",
       "      <td>2</td>\n",
       "    </tr>\n",
       "  </tbody>\n",
       "</table>\n",
       "</div>"
      ],
      "text/plain": [
       "   PassengerId  Pclass                              Name     Sex   Age  SibSp  \\\n",
       "0          892       3                  Kelly, Mr. James    male  34.5      0   \n",
       "1          893       3  Wilkes, Mrs. James (Ellen Needs)  female  47.0      1   \n",
       "\n",
       "   Parch  Ticket    Fare Cabin Embarked Initial  Age_band  \n",
       "0      0  330911  7.8292   NaN        Q      Mr         2  \n",
       "1      0  363272  7.0000   NaN        S     Mrs         2  "
      ]
     },
     "execution_count": 21,
     "metadata": {},
     "output_type": "execute_result"
    }
   ],
   "source": [
    "test['Age_band']=0\n",
    "test.loc[test['Age']<=16,'Age_band']=0\n",
    "test.loc[(test['Age']>16)&(test['Age']<=32),'Age_band']=1\n",
    "test.loc[(test['Age']>32)&(test['Age']<=48),'Age_band']=2\n",
    "test.loc[(test['Age']>48)&(test['Age']<=64),'Age_band']=3\n",
    "test.loc[test['Age']>64,'Age_band']=4\n",
    "test.head(2)"
   ]
  },
  {
   "cell_type": "markdown",
   "metadata": {},
   "source": [
    "## Family_Size and Alone"
   ]
  },
  {
   "cell_type": "code",
   "execution_count": 22,
   "metadata": {},
   "outputs": [],
   "source": [
    "data['Family_Size']=0\n",
    "data['Family_Size']=data['Parch']+data['SibSp']#family size\n",
    "data['Alone']=0\n",
    "data.loc[data.Family_Size==0,'Alone']=1#Alone"
   ]
  },
  {
   "cell_type": "code",
   "execution_count": 23,
   "metadata": {},
   "outputs": [],
   "source": [
    "test['Family_Size']=0\n",
    "test['Family_Size']=test['Parch']+test['SibSp']#family size\n",
    "test['Alone']=0\n",
    "test.loc[test.Family_Size==0,'Alone']=1#Alone"
   ]
  },
  {
   "cell_type": "markdown",
   "metadata": {},
   "source": [
    "## Fare_Range"
   ]
  },
  {
   "cell_type": "code",
   "execution_count": 25,
   "metadata": {},
   "outputs": [],
   "source": [
    "data['Fare_Range']=pd.qcut(data['Fare'],4)\n",
    "data['Fare_cat']=0\n",
    "data.loc[data['Fare']<=7.91,'Fare_cat']=0\n",
    "data.loc[(data['Fare']>7.91)&(data['Fare']<=14.454),'Fare_cat']=1\n",
    "data.loc[(data['Fare']>14.454)&(data['Fare']<=31),'Fare_cat']=2\n",
    "data.loc[(data['Fare']>31)&(data['Fare']<=513),'Fare_cat']=3"
   ]
  },
  {
   "cell_type": "code",
   "execution_count": 26,
   "metadata": {},
   "outputs": [],
   "source": [
    "test['Fare_Range']=pd.qcut(test['Fare'],4)\n",
    "test['Fare_cat']=0\n",
    "test.loc[test['Fare']<=7.91,'Fare_cat']=0\n",
    "test.loc[(test['Fare']>7.91)&(test['Fare']<=14.454),'Fare_cat']=1\n",
    "test.loc[(test['Fare']>14.454)&(test['Fare']<=31),'Fare_cat']=2\n",
    "test.loc[(test['Fare']>31)&(test['Fare']<=513),'Fare_cat']=3"
   ]
  },
  {
   "cell_type": "markdown",
   "metadata": {},
   "source": [
    "## Converting String Values into Numeric(Sex Embarked Initial)"
   ]
  },
  {
   "cell_type": "code",
   "execution_count": 27,
   "metadata": {},
   "outputs": [],
   "source": [
    "data['Sex'].replace(['male','female'],[0,1],inplace=True)\n",
    "data['Embarked'].replace(['S','C','Q'],[0,1,2],inplace=True)\n",
    "data['Initial'].replace(['Mr','Mrs','Miss','Master','Other'],[0,1,2,3,4],inplace=True)"
   ]
  },
  {
   "cell_type": "code",
   "execution_count": 28,
   "metadata": {},
   "outputs": [],
   "source": [
    "test['Sex'].replace(['male','female'],[0,1],inplace=True)\n",
    "test['Embarked'].replace(['S','C','Q'],[0,1,2],inplace=True)\n",
    "test['Initial'].replace(['Mr','Mrs','Miss','Master','Other'],[0,1,2,3,4],inplace=True)"
   ]
  },
  {
   "cell_type": "markdown",
   "metadata": {},
   "source": [
    "## Dropping UnNeeded Features\n",
    "#### Name--> We don't need name feature as it cannot be converted into any categorical value.\n",
    "#### Age--> We have the Age_band feature, so no need of this.\n",
    "#### Ticket--> It is any random string that cannot be categorised.\n",
    "#### Fare--> We have the Fare_cat feature, so unneeded\n",
    "#### Cabin--> A lot of NaN values and also many passengers have multiple cabins. So this is a useless feature.\n",
    "#### Fare_Range--> We have the fare_cat feature.\n",
    "#### PassengerId--> Cannot be categorised."
   ]
  },
  {
   "cell_type": "code",
   "execution_count": 29,
   "metadata": {},
   "outputs": [
    {
     "data": {
      "text/plain": [
       "<matplotlib.axes._subplots.AxesSubplot at 0x98bb870>"
      ]
     },
     "execution_count": 29,
     "metadata": {},
     "output_type": "execute_result"
    }
   ],
   "source": [
    "data.drop(['Name','Age','Ticket','Fare','Cabin','Fare_Range','PassengerId'],axis=1,inplace=True)\n",
    "sns.heatmap(data.corr(),annot=True,cmap='RdYlGn',linewidths=0.2,annot_kws={'size':20})"
   ]
  },
  {
   "cell_type": "code",
   "execution_count": 30,
   "metadata": {},
   "outputs": [
    {
     "data": {
      "image/png": "[encoded data removed]",
      "text/plain": [
       "<matplotlib.figure.Figure at 0x9a85fd0>"
      ]
     },
     "metadata": {},
     "output_type": "display_data"
    }
   ],
   "source": [
    "fig=plt.gcf()\n",
    "fig.set_size_inches(18,15)\n",
    "plt.xticks(fontsize=14)\n",
    "plt.yticks(fontsize=14)\n",
    "plt.show()"
   ]
  },
  {
   "cell_type": "code",
   "execution_count": 31,
   "metadata": {},
   "outputs": [],
   "source": [
    "test.drop(['Name','Age','Ticket','Fare','Cabin','Fare_Range','PassengerId'],axis=1,inplace=True)"
   ]
  },
  {
   "cell_type": "markdown",
   "metadata": {},
   "source": [
    "## Predictive Modeling\n",
    "1)Logistic Regression\n",
    "\n",
    "2)Support Vector Machines(Linear and radial)\n",
    "\n",
    "3)Random Forest\n",
    "\n",
    "4)K-Nearest Neighbours\n",
    "\n",
    "5)Naive Bayes\n",
    "\n",
    "6)Decision Tree\n",
    "\n",
    "7)Logistic Regression"
   ]
  },
  {
   "cell_type": "code",
   "execution_count": 32,
   "metadata": {},
   "outputs": [],
   "source": [
    "#importing all the required ML packages\n",
    "from sklearn.linear_model import LogisticRegression #logistic regression\n",
    "from sklearn import svm #support vector Machine\n",
    "from sklearn.ensemble import RandomForestClassifier #Random Forest\n",
    "from sklearn.neighbors import KNeighborsClassifier #KNN\n",
    "from sklearn.naive_bayes import GaussianNB #Naive bayes\n",
    "from sklearn.tree import DecisionTreeClassifier #Decision Tree\n",
    "from sklearn.model_selection import train_test_split #training and testing data split\n",
    "from sklearn import metrics #accuracy measure\n",
    "from sklearn.metrics import confusion_matrix #for confusion matrix"
   ]
  },
  {
   "cell_type": "code",
   "execution_count": 33,
   "metadata": {},
   "outputs": [],
   "source": [
    "train_X=data[data.columns[1:]]\n",
    "train_Y=data[data.columns[:1]]"
   ]
  },
  {
   "cell_type": "code",
   "execution_count": 40,
   "metadata": {},
   "outputs": [],
   "source": [
    "test_data = test[test.columns[0:]]"
   ]
  },
  {
   "cell_type": "code",
   "execution_count": 35,
   "metadata": {},
   "outputs": [],
   "source": [
    "#test_data.to_csv('C:/Users/Administrator/Desktop/test_data.csv')"
   ]
  },
  {
   "cell_type": "code",
   "execution_count": 41,
   "metadata": {},
   "outputs": [
    {
     "data": {
      "text/html": [
       "<div>\n",
       "<style>\n",
       "    .dataframe thead tr:only-child th {\n",
       "        text-align: right;\n",
       "    }\n",
       "\n",
       "    .dataframe thead th {\n",
       "        text-align: left;\n",
       "    }\n",
       "\n",
       "    .dataframe tbody tr th {\n",
       "        vertical-align: top;\n",
       "    }\n",
       "</style>\n",
       "<table border=\"1\" class=\"dataframe\">\n",
       "  <thead>\n",
       "    <tr style=\"text-align: right;\">\n",
       "      <th></th>\n",
       "      <th>Pclass</th>\n",
       "      <th>Sex</th>\n",
       "      <th>SibSp</th>\n",
       "      <th>Parch</th>\n",
       "      <th>Embarked</th>\n",
       "      <th>Initial</th>\n",
       "      <th>Age_band</th>\n",
       "      <th>Family_Size</th>\n",
       "      <th>Alone</th>\n",
       "      <th>Fare_cat</th>\n",
       "    </tr>\n",
       "  </thead>\n",
       "  <tbody>\n",
       "    <tr>\n",
       "      <th>0</th>\n",
       "      <td>3</td>\n",
       "      <td>0</td>\n",
       "      <td>1</td>\n",
       "      <td>0</td>\n",
       "      <td>0</td>\n",
       "      <td>0</td>\n",
       "      <td>1</td>\n",
       "      <td>1</td>\n",
       "      <td>0</td>\n",
       "      <td>0</td>\n",
       "    </tr>\n",
       "    <tr>\n",
       "      <th>1</th>\n",
       "      <td>1</td>\n",
       "      <td>1</td>\n",
       "      <td>1</td>\n",
       "      <td>0</td>\n",
       "      <td>1</td>\n",
       "      <td>1</td>\n",
       "      <td>2</td>\n",
       "      <td>1</td>\n",
       "      <td>0</td>\n",
       "      <td>3</td>\n",
       "    </tr>\n",
       "    <tr>\n",
       "      <th>2</th>\n",
       "      <td>3</td>\n",
       "      <td>1</td>\n",
       "      <td>0</td>\n",
       "      <td>0</td>\n",
       "      <td>0</td>\n",
       "      <td>2</td>\n",
       "      <td>1</td>\n",
       "      <td>0</td>\n",
       "      <td>1</td>\n",
       "      <td>1</td>\n",
       "    </tr>\n",
       "    <tr>\n",
       "      <th>3</th>\n",
       "      <td>1</td>\n",
       "      <td>1</td>\n",
       "      <td>1</td>\n",
       "      <td>0</td>\n",
       "      <td>0</td>\n",
       "      <td>1</td>\n",
       "      <td>2</td>\n",
       "      <td>1</td>\n",
       "      <td>0</td>\n",
       "      <td>3</td>\n",
       "    </tr>\n",
       "    <tr>\n",
       "      <th>4</th>\n",
       "      <td>3</td>\n",
       "      <td>0</td>\n",
       "      <td>0</td>\n",
       "      <td>0</td>\n",
       "      <td>0</td>\n",
       "      <td>0</td>\n",
       "      <td>2</td>\n",
       "      <td>0</td>\n",
       "      <td>1</td>\n",
       "      <td>1</td>\n",
       "    </tr>\n",
       "  </tbody>\n",
       "</table>\n",
       "</div>"
      ],
      "text/plain": [
       "   Pclass  Sex  SibSp  Parch  Embarked  Initial  Age_band  Family_Size  Alone  \\\n",
       "0       3    0      1      0         0        0         1            1      0   \n",
       "1       1    1      1      0         1        1         2            1      0   \n",
       "2       3    1      0      0         0        2         1            0      1   \n",
       "3       1    1      1      0         0        1         2            1      0   \n",
       "4       3    0      0      0         0        0         2            0      1   \n",
       "\n",
       "   Fare_cat  \n",
       "0         0  \n",
       "1         3  \n",
       "2         1  \n",
       "3         3  \n",
       "4         1  "
      ]
     },
     "execution_count": 41,
     "metadata": {},
     "output_type": "execute_result"
    }
   ],
   "source": [
    "train_X.head()"
   ]
  },
  {
   "cell_type": "code",
   "execution_count": 42,
   "metadata": {},
   "outputs": [
    {
     "data": {
      "text/html": [
       "<div>\n",
       "<style>\n",
       "    .dataframe thead tr:only-child th {\n",
       "        text-align: right;\n",
       "    }\n",
       "\n",
       "    .dataframe thead th {\n",
       "        text-align: left;\n",
       "    }\n",
       "\n",
       "    .dataframe tbody tr th {\n",
       "        vertical-align: top;\n",
       "    }\n",
       "</style>\n",
       "<table border=\"1\" class=\"dataframe\">\n",
       "  <thead>\n",
       "    <tr style=\"text-align: right;\">\n",
       "      <th></th>\n",
       "      <th>Pclass</th>\n",
       "      <th>Sex</th>\n",
       "      <th>SibSp</th>\n",
       "      <th>Parch</th>\n",
       "      <th>Embarked</th>\n",
       "      <th>Initial</th>\n",
       "      <th>Age_band</th>\n",
       "      <th>Family_Size</th>\n",
       "      <th>Alone</th>\n",
       "      <th>Fare_cat</th>\n",
       "    </tr>\n",
       "  </thead>\n",
       "  <tbody>\n",
       "    <tr>\n",
       "      <th>0</th>\n",
       "      <td>3</td>\n",
       "      <td>0</td>\n",
       "      <td>0</td>\n",
       "      <td>0</td>\n",
       "      <td>2</td>\n",
       "      <td>0</td>\n",
       "      <td>2</td>\n",
       "      <td>0</td>\n",
       "      <td>1</td>\n",
       "      <td>0</td>\n",
       "    </tr>\n",
       "    <tr>\n",
       "      <th>1</th>\n",
       "      <td>3</td>\n",
       "      <td>1</td>\n",
       "      <td>1</td>\n",
       "      <td>0</td>\n",
       "      <td>0</td>\n",
       "      <td>1</td>\n",
       "      <td>2</td>\n",
       "      <td>1</td>\n",
       "      <td>0</td>\n",
       "      <td>0</td>\n",
       "    </tr>\n",
       "    <tr>\n",
       "      <th>2</th>\n",
       "      <td>2</td>\n",
       "      <td>0</td>\n",
       "      <td>0</td>\n",
       "      <td>0</td>\n",
       "      <td>2</td>\n",
       "      <td>0</td>\n",
       "      <td>3</td>\n",
       "      <td>0</td>\n",
       "      <td>1</td>\n",
       "      <td>1</td>\n",
       "    </tr>\n",
       "    <tr>\n",
       "      <th>3</th>\n",
       "      <td>3</td>\n",
       "      <td>0</td>\n",
       "      <td>0</td>\n",
       "      <td>0</td>\n",
       "      <td>0</td>\n",
       "      <td>0</td>\n",
       "      <td>1</td>\n",
       "      <td>0</td>\n",
       "      <td>1</td>\n",
       "      <td>1</td>\n",
       "    </tr>\n",
       "    <tr>\n",
       "      <th>4</th>\n",
       "      <td>3</td>\n",
       "      <td>1</td>\n",
       "      <td>1</td>\n",
       "      <td>1</td>\n",
       "      <td>0</td>\n",
       "      <td>1</td>\n",
       "      <td>1</td>\n",
       "      <td>2</td>\n",
       "      <td>0</td>\n",
       "      <td>1</td>\n",
       "    </tr>\n",
       "  </tbody>\n",
       "</table>\n",
       "</div>"
      ],
      "text/plain": [
       "   Pclass  Sex  SibSp  Parch  Embarked  Initial  Age_band  Family_Size  Alone  \\\n",
       "0       3    0      0      0         2        0         2            0      1   \n",
       "1       3    1      1      0         0        1         2            1      0   \n",
       "2       2    0      0      0         2        0         3            0      1   \n",
       "3       3    0      0      0         0        0         1            0      1   \n",
       "4       3    1      1      1         0        1         1            2      0   \n",
       "\n",
       "   Fare_cat  \n",
       "0         0  \n",
       "1         0  \n",
       "2         1  \n",
       "3         1  \n",
       "4         1  "
      ]
     },
     "execution_count": 42,
     "metadata": {},
     "output_type": "execute_result"
    }
   ],
   "source": [
    "test_data.head()"
   ]
  },
  {
   "cell_type": "markdown",
   "metadata": {},
   "source": [
    "### Radial Support Vector Machines(rbf-SVM)"
   ]
  },
  {
   "cell_type": "code",
   "execution_count": 43,
   "metadata": {},
   "outputs": [],
   "source": [
    "model=svm.SVC(kernel='rbf',C=1,gamma=0.1)\n",
    "model.fit(train_X,train_Y)\n",
    "prediction1=model.predict(test_data)\n",
    "#print('Accuracy for rbf SVM is ',metrics.accuracy_score(prediction1,test_Y))"
   ]
  },
  {
   "cell_type": "code",
   "execution_count": 44,
   "metadata": {},
   "outputs": [
    {
     "data": {
      "text/plain": [
       "array([0, 1, 0, 0, 1, 0, 1, 0, 1, 0, 0, 0, 1, 0, 1, 1, 0, 0, 1, 1, 0, 1, 1,\n",
       "       0, 1, 0, 1, 0, 0, 0, 0, 0, 1, 1, 0, 0, 1, 1, 0, 0, 0, 0, 0, 1, 1, 0,\n",
       "       0, 0, 1, 1, 0, 0, 1, 1, 0, 0, 0, 0, 0, 1, 0, 0, 0, 1, 1, 1, 1, 0, 0,\n",
       "       0, 1, 0, 1, 0, 1, 0, 0, 1, 0, 1, 1, 0, 0, 0, 0, 0, 1, 1, 1, 1, 1, 0,\n",
       "       1, 0, 0, 0, 1, 0, 1, 0, 1, 0, 0, 0, 1, 0, 0, 0, 0, 0, 0, 1, 1, 1, 1,\n",
       "       0, 0, 1, 0, 1, 1, 0, 1, 0, 0, 1, 0, 1, 0, 0, 0, 0, 0, 0, 0, 0, 0, 0,\n",
       "       1, 0, 0, 1, 0, 0, 0, 0, 0, 0, 0, 1, 1, 0, 0, 1, 0, 0, 1, 1, 0, 1, 1,\n",
       "       1, 1, 0, 0, 1, 0, 0, 1, 1, 0, 0, 0, 0, 0, 1, 1, 0, 1, 1, 0, 0, 1, 0,\n",
       "       1, 0, 1, 0, 0, 0, 0, 0, 1, 0, 1, 0, 1, 1, 0, 1, 1, 1, 0, 1, 0, 0, 1,\n",
       "       0, 1, 0, 0, 0, 0, 1, 0, 0, 1, 0, 1, 0, 1, 0, 1, 0, 1, 1, 0, 1, 0, 0,\n",
       "       0, 1, 0, 0, 0, 0, 0, 0, 1, 1, 1, 1, 0, 0, 1, 0, 1, 0, 1, 1, 1, 0, 0,\n",
       "       0, 0, 0, 0, 0, 1, 0, 0, 0, 1, 1, 0, 0, 0, 0, 1, 0, 0, 0, 1, 1, 0, 1,\n",
       "       0, 0, 0, 0, 1, 1, 1, 1, 1, 0, 0, 0, 0, 0, 0, 1, 0, 0, 0, 0, 1, 0, 0,\n",
       "       0, 0, 0, 0, 0, 1, 1, 0, 1, 0, 1, 0, 0, 0, 1, 1, 1, 0, 0, 0, 0, 0, 0,\n",
       "       0, 0, 1, 0, 1, 0, 0, 0, 1, 0, 0, 1, 0, 0, 0, 0, 0, 1, 0, 0, 0, 1, 1,\n",
       "       1, 0, 1, 0, 1, 1, 0, 0, 0, 1, 0, 1, 0, 0, 1, 0, 1, 1, 0, 1, 0, 0, 1,\n",
       "       1, 0, 0, 1, 0, 0, 1, 1, 1, 0, 0, 0, 0, 0, 1, 1, 0, 1, 0, 0, 0, 0, 0,\n",
       "       1, 1, 0, 0, 1, 0, 1, 0, 0, 1, 0, 1, 0, 0, 0, 0, 0, 1, 1, 1, 1, 1, 0,\n",
       "       1, 0, 0, 1], dtype=int64)"
      ]
     },
     "execution_count": 44,
     "metadata": {},
     "output_type": "execute_result"
    }
   ],
   "source": [
    "prediction1"
   ]
  },
  {
   "cell_type": "code",
   "execution_count": 46,
   "metadata": {},
   "outputs": [
    {
     "data": {
      "text/plain": [
       "0      0\n",
       "1      1\n",
       "2      0\n",
       "3      0\n",
       "4      1\n",
       "5      0\n",
       "6      1\n",
       "7      0\n",
       "8      1\n",
       "9      0\n",
       "10     0\n",
       "11     0\n",
       "12     1\n",
       "13     0\n",
       "14     1\n",
       "15     1\n",
       "16     0\n",
       "17     0\n",
       "18     1\n",
       "19     1\n",
       "20     0\n",
       "21     1\n",
       "22     1\n",
       "23     0\n",
       "24     1\n",
       "25     0\n",
       "26     1\n",
       "27     0\n",
       "28     0\n",
       "29     0\n",
       "      ..\n",
       "388    0\n",
       "389    0\n",
       "390    0\n",
       "391    1\n",
       "392    1\n",
       "393    0\n",
       "394    0\n",
       "395    1\n",
       "396    0\n",
       "397    1\n",
       "398    0\n",
       "399    0\n",
       "400    1\n",
       "401    0\n",
       "402    1\n",
       "403    0\n",
       "404    0\n",
       "405    0\n",
       "406    0\n",
       "407    0\n",
       "408    1\n",
       "409    1\n",
       "410    1\n",
       "411    1\n",
       "412    1\n",
       "413    0\n",
       "414    1\n",
       "415    0\n",
       "416    0\n",
       "417    1\n",
       "Length: 418, dtype: int64"
      ]
     },
     "execution_count": 46,
     "metadata": {},
     "output_type": "execute_result"
    }
   ],
   "source": [
    "pd.Series(prediction1)"
   ]
  },
  {
   "cell_type": "code",
   "execution_count": 47,
   "metadata": {},
   "outputs": [],
   "source": [
    "pd.Series(prediction1).to_csv('C:/Users/Administrator/Desktop/result_rbf.csv')"
   ]
  },
  {
   "cell_type": "code",
   "execution_count": null,
   "metadata": {},
   "outputs": [],
   "source": []
  },
  {
   "cell_type": "code",
   "execution_count": null,
   "metadata": {},
   "outputs": [],
   "source": []
  },
  {
   "cell_type": "code",
   "execution_count": null,
   "metadata": {},
   "outputs": [],
   "source": []
  },
  {
   "cell_type": "code",
   "execution_count": null,
   "metadata": {},
   "outputs": [],
   "source": []
  },
  {
   "cell_type": "code",
   "execution_count": null,
   "metadata": {},
   "outputs": [],
   "source": []
  },
  {
   "cell_type": "code",
   "execution_count": null,
   "metadata": {},
   "outputs": [],
   "source": []
  },
  {
   "cell_type": "code",
   "execution_count": null,
   "metadata": {},
   "outputs": [],
   "source": []
  },
  {
   "cell_type": "code",
   "execution_count": null,
   "metadata": {},
   "outputs": [],
   "source": []
  },
  {
   "cell_type": "code",
   "execution_count": null,
   "metadata": {},
   "outputs": [],
   "source": []
  },
  {
   "cell_type": "code",
   "execution_count": null,
   "metadata": {},
   "outputs": [],
   "source": []
  },
  {
   "cell_type": "code",
   "execution_count": null,
   "metadata": {},
   "outputs": [],
   "source": []
  },
  {
   "cell_type": "code",
   "execution_count": null,
   "metadata": {},
   "outputs": [],
   "source": []
  },
  {
   "cell_type": "code",
   "execution_count": null,
   "metadata": {},
   "outputs": [],
   "source": []
  },
  {
   "cell_type": "code",
   "execution_count": null,
   "metadata": {},
   "outputs": [],
   "source": []
  },
  {
   "cell_type": "code",
   "execution_count": null,
   "metadata": {},
   "outputs": [],
   "source": []
  }
 ],
 "metadata": {
  "kernelspec": {
   "display_name": "Python 3",
   "language": "python",
   "name": "python3"
  },
  "language_info": {
   "codemirror_mode": {
    "name": "ipython",
    "version": 3
   },
   "file_extension": ".py",
   "mimetype": "text/x-python",
   "name": "python",
   "nbconvert_exporter": "python",
   "pygments_lexer": "ipython3",
   "version": "3.6.2"
  }
 },
 "nbformat": 4,
 "nbformat_minor": 2
}
